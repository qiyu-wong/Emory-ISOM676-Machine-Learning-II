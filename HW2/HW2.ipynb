{
  "nbformat": 4,
  "nbformat_minor": 0,
  "metadata": {
    "colab": {
      "name": "HW2.ipynb",
      "provenance": [],
      "collapsed_sections": []
    },
    "kernelspec": {
      "name": "python3",
      "display_name": "Python 3"
    }
  },
  "cells": [
    {
      "cell_type": "code",
      "metadata": {
        "colab": {
          "base_uri": "https://localhost:8080/"
        },
        "id": "i7xEw2-1wT4Q",
        "outputId": "32751e37-d74d-4b52-e9ca-46480f0feded"
      },
      "source": [
        "!apt-get install openjdk-8-jdk-headless -qq > /dev/null\r\n",
        "!wget -q https://www-us.apache.org/dist/spark/spark-2.4.7/spark-2.4.7-bin-hadoop2.7.tgz\r\n",
        "!tar xf spark-2.4.7-bin-hadoop2.7.tgz\r\n",
        "!pip install -q findspark\r\n",
        "\r\n",
        "import os\r\n",
        "os.environ[\"JAVA_HOME\"] = \"/usr/lib/jvm/java-8-openjdk-amd64\"\r\n",
        "os.environ[\"SPARK_HOME\"] = \"/content/spark-2.4.7-bin-hadoop2.7\"\r\n",
        "\r\n",
        "import findspark\r\n",
        "findspark.init()\r\n",
        "from pyspark.sql import SparkSession\r\n",
        "spark = SparkSession.builder.master(\"local[*]\").getOrCreate()\r\n",
        "sc = spark.sparkContext\r\n",
        "\r\n",
        "from google.colab import drive\r\n",
        "drive.mount('/content/drive/')\r\n",
        "%cd /content/drive/My Drive/Colab Notebooks/"
      ],
      "execution_count": null,
      "outputs": [
        {
          "output_type": "stream",
          "text": [
            "Mounted at /content/drive/\n",
            "/content/drive/My Drive/Colab Notebooks\n"
          ],
          "name": "stdout"
        }
      ]
    },
    {
      "cell_type": "code",
      "metadata": {
        "id": "bLw1vD7vxPWp"
      },
      "source": [
        "from pyspark.ml.linalg import Vectors\r\n",
        "from pyspark.ml import Pipeline\r\n",
        "from pyspark.sql import Row\r\n",
        "from pyspark.ml.feature import StringIndexer, VectorAssembler, OneHotEncoder, StandardScaler\r\n",
        "from pyspark.ml.classification import DecisionTreeClassifier, LogisticRegression\r\n",
        "from pyspark.mllib.regression import LinearRegressionWithSGD, LabeledPoint\r\n",
        "from pyspark.mllib.stat import Statistics\r\n",
        "from pyspark.sql.functions import *\r\n",
        "from pyspark.sql import *"
      ],
      "execution_count": 322,
      "outputs": []
    },
    {
      "cell_type": "markdown",
      "metadata": {
        "id": "21Vqg-Z2H06c"
      },
      "source": [
        "# Question 1"
      ]
    },
    {
      "cell_type": "code",
      "metadata": {
        "id": "4c7VOWLX3Iaz"
      },
      "source": [
        "sqlContext = SQLContext(sc)\r\n",
        "\r\n",
        "df = sqlContext.read.format(source=\"com.databricks.spark.csv\").options(header = 'true', inferSchema = 'true').load(path = '/content/drive/My Drive/train.csv')"
      ],
      "execution_count": 347,
      "outputs": []
    },
    {
      "cell_type": "code",
      "metadata": {
        "colab": {
          "base_uri": "https://localhost:8080/"
        },
        "id": "vb9KLkIV5qj_",
        "outputId": "c43fea54-88ea-47fb-8661-2fcbe650898c"
      },
      "source": [
        "df.printSchema()"
      ],
      "execution_count": null,
      "outputs": [
        {
          "output_type": "stream",
          "text": [
            "root\n",
            " |-- PassengerId: integer (nullable = true)\n",
            " |-- Survived: integer (nullable = true)\n",
            " |-- Pclass: integer (nullable = true)\n",
            " |-- Name: string (nullable = true)\n",
            " |-- Sex: string (nullable = true)\n",
            " |-- Age: double (nullable = true)\n",
            " |-- SibSp: integer (nullable = true)\n",
            " |-- Parch: integer (nullable = true)\n",
            " |-- Ticket: string (nullable = true)\n",
            " |-- Fare: double (nullable = true)\n",
            " |-- Cabin: string (nullable = true)\n",
            " |-- Embarked: string (nullable = true)\n",
            "\n"
          ],
          "name": "stdout"
        }
      ]
    },
    {
      "cell_type": "markdown",
      "metadata": {
        "id": "AGiUkrZ5H4fC"
      },
      "source": [
        "# Question 2"
      ]
    },
    {
      "cell_type": "code",
      "metadata": {
        "colab": {
          "base_uri": "https://localhost:8080/"
        },
        "id": "nySOQnb-AKsQ",
        "outputId": "dbc0ce56-efe9-4773-947d-1dced863254c"
      },
      "source": [
        "df.show(10)"
      ],
      "execution_count": null,
      "outputs": [
        {
          "output_type": "stream",
          "text": [
            "+-----------+--------+------+--------------------+------+----+-----+-----+----------------+-------+-----+--------+\n",
            "|PassengerId|Survived|Pclass|                Name|   Sex| Age|SibSp|Parch|          Ticket|   Fare|Cabin|Embarked|\n",
            "+-----------+--------+------+--------------------+------+----+-----+-----+----------------+-------+-----+--------+\n",
            "|          1|       0|     3|Braund, Mr. Owen ...|  male|22.0|    1|    0|       A/5 21171|   7.25| null|       S|\n",
            "|          2|       1|     1|Cumings, Mrs. Joh...|female|38.0|    1|    0|        PC 17599|71.2833|  C85|       C|\n",
            "|          3|       1|     3|Heikkinen, Miss. ...|female|26.0|    0|    0|STON/O2. 3101282|  7.925| null|       S|\n",
            "|          4|       1|     1|Futrelle, Mrs. Ja...|female|35.0|    1|    0|          113803|   53.1| C123|       S|\n",
            "|          5|       0|     3|Allen, Mr. Willia...|  male|35.0|    0|    0|          373450|   8.05| null|       S|\n",
            "|          6|       0|     3|    Moran, Mr. James|  male|null|    0|    0|          330877| 8.4583| null|       Q|\n",
            "|          7|       0|     1|McCarthy, Mr. Tim...|  male|54.0|    0|    0|           17463|51.8625|  E46|       S|\n",
            "|          8|       0|     3|Palsson, Master. ...|  male| 2.0|    3|    1|          349909| 21.075| null|       S|\n",
            "|          9|       1|     3|Johnson, Mrs. Osc...|female|27.0|    0|    2|          347742|11.1333| null|       S|\n",
            "|         10|       1|     2|Nasser, Mrs. Nich...|female|14.0|    1|    0|          237736|30.0708| null|       C|\n",
            "+-----------+--------+------+--------------------+------+----+-----+-----+----------------+-------+-----+--------+\n",
            "only showing top 10 rows\n",
            "\n"
          ],
          "name": "stdout"
        }
      ]
    },
    {
      "cell_type": "code",
      "metadata": {
        "colab": {
          "base_uri": "https://localhost:8080/"
        },
        "id": "Bzx8b-Cy_tcA",
        "outputId": "e77fa277-f821-4c9d-c716-5a1c609a0b7e"
      },
      "source": [
        "df.describe().show()"
      ],
      "execution_count": null,
      "outputs": [
        {
          "output_type": "stream",
          "text": [
            "+-------+-----------------+-------------------+------------------+--------------------+------+------------------+------------------+-------------------+------------------+-----------------+-----+--------+\n",
            "|summary|      PassengerId|           Survived|            Pclass|                Name|   Sex|               Age|             SibSp|              Parch|            Ticket|             Fare|Cabin|Embarked|\n",
            "+-------+-----------------+-------------------+------------------+--------------------+------+------------------+------------------+-------------------+------------------+-----------------+-----+--------+\n",
            "|  count|              891|                891|               891|                 891|   891|               714|               891|                891|               891|              891|  204|     889|\n",
            "|   mean|            446.0| 0.3838383838383838| 2.308641975308642|                null|  null| 29.69911764705882|0.5230078563411896|0.38159371492704824|260318.54916792738| 32.2042079685746| null|    null|\n",
            "| stddev|257.3538420152301|0.48659245426485753|0.8360712409770491|                null|  null|14.526497332334035|1.1027434322934315| 0.8060572211299488|471609.26868834975|49.69342859718089| null|    null|\n",
            "|    min|                1|                  0|                 1|\"Andersson, Mr. A...|female|              0.42|                 0|                  0|            110152|              0.0|  A10|       C|\n",
            "|    max|              891|                  1|                 3|van Melkebeke, Mr...|  male|              80.0|                 8|                  6|         WE/P 5735|         512.3292|    T|       S|\n",
            "+-------+-----------------+-------------------+------------------+--------------------+------+------------------+------------------+-------------------+------------------+-----------------+-----+--------+\n",
            "\n"
          ],
          "name": "stdout"
        }
      ]
    },
    {
      "cell_type": "code",
      "metadata": {
        "colab": {
          "base_uri": "https://localhost:8080/"
        },
        "id": "wXesuqadD6AB",
        "outputId": "5d3b0e01-8cfc-44da-eea9-3a8622e18a31"
      },
      "source": [
        "df.groupBy('Name').count().orderBy(\"count\", ascending = False).show(10)"
      ],
      "execution_count": null,
      "outputs": [
        {
          "output_type": "stream",
          "text": [
            "+--------------------+-----+\n",
            "|                Name|count|\n",
            "+--------------------+-----+\n",
            "|\"Watt, Mrs. James...|    1|\n",
            "|Young, Miss. Mari...|    1|\n",
            "|Parr, Mr. William...|    1|\n",
            "|Soholt, Mr. Peter...|    1|\n",
            "|Goldsmith, Mrs. F...|    1|\n",
            "|    Dimic, Mr. Jovan|    1|\n",
            "|Harper, Mr. Henry...|    1|\n",
            "|Reuchlin, Jonkhee...|    1|\n",
            "|Fahlstrom, Mr. Ar...|    1|\n",
            "|Hosono, Mr. Masabumi|    1|\n",
            "+--------------------+-----+\n",
            "only showing top 10 rows\n",
            "\n"
          ],
          "name": "stdout"
        }
      ]
    },
    {
      "cell_type": "code",
      "metadata": {
        "colab": {
          "base_uri": "https://localhost:8080/"
        },
        "id": "gYnSPHxEHs3n",
        "outputId": "c487cecd-791a-4e23-ee6e-b9e2794749d4"
      },
      "source": [
        "df.groupBy('PassengerId').count().orderBy(\"count\", ascending = False).show(10)"
      ],
      "execution_count": null,
      "outputs": [
        {
          "output_type": "stream",
          "text": [
            "+-----------+-----+\n",
            "|PassengerId|count|\n",
            "+-----------+-----+\n",
            "|        148|    1|\n",
            "|        463|    1|\n",
            "|        471|    1|\n",
            "|        496|    1|\n",
            "|        833|    1|\n",
            "|        243|    1|\n",
            "|        392|    1|\n",
            "|        540|    1|\n",
            "|        623|    1|\n",
            "|        737|    1|\n",
            "+-----------+-----+\n",
            "only showing top 10 rows\n",
            "\n"
          ],
          "name": "stdout"
        }
      ]
    },
    {
      "cell_type": "code",
      "metadata": {
        "colab": {
          "base_uri": "https://localhost:8080/"
        },
        "id": "4Ojsm1JcE-2p",
        "outputId": "bdf706f8-533f-442e-e9fb-bf8dbba1ac6d"
      },
      "source": [
        "df.groupBy('Sex').count().orderBy(\"count\", ascending = False).show(10)"
      ],
      "execution_count": null,
      "outputs": [
        {
          "output_type": "stream",
          "text": [
            "+------+-----+\n",
            "|   Sex|count|\n",
            "+------+-----+\n",
            "|  male|  577|\n",
            "|female|  314|\n",
            "+------+-----+\n",
            "\n"
          ],
          "name": "stdout"
        }
      ]
    },
    {
      "cell_type": "code",
      "metadata": {
        "colab": {
          "base_uri": "https://localhost:8080/"
        },
        "id": "01XXEwJ4E-5b",
        "outputId": "8db7eed2-25fc-4304-b9a2-e100f0b1dcff"
      },
      "source": [
        "df.groupBy('Ticket').count().orderBy(\"count\", ascending = False).show(10)"
      ],
      "execution_count": null,
      "outputs": [
        {
          "output_type": "stream",
          "text": [
            "+------------+-----+\n",
            "|      Ticket|count|\n",
            "+------------+-----+\n",
            "|      347082|    7|\n",
            "|        1601|    7|\n",
            "|    CA. 2343|    7|\n",
            "|     3101295|    6|\n",
            "|      347088|    6|\n",
            "|     CA 2144|    6|\n",
            "|S.O.C. 14879|    5|\n",
            "|      382652|    5|\n",
            "|        4133|    4|\n",
            "|  W./C. 6608|    4|\n",
            "+------------+-----+\n",
            "only showing top 10 rows\n",
            "\n"
          ],
          "name": "stdout"
        }
      ]
    },
    {
      "cell_type": "code",
      "metadata": {
        "colab": {
          "base_uri": "https://localhost:8080/"
        },
        "id": "fLKxM2whIel8",
        "outputId": "0fc653c7-36eb-47be-b59b-2fdcbb5849be"
      },
      "source": [
        "df.groupBy('Ticket').count().groupBy('count').count().orderBy(\"count\", ascending = False).show(10)"
      ],
      "execution_count": null,
      "outputs": [
        {
          "output_type": "stream",
          "text": [
            "+-----+-----+\n",
            "|count|count|\n",
            "+-----+-----+\n",
            "|    7|    3|\n",
            "|    6|    3|\n",
            "|    5|    2|\n",
            "|    4|   11|\n",
            "|    3|   21|\n",
            "|    2|   94|\n",
            "|    1|  547|\n",
            "+-----+-----+\n",
            "\n"
          ],
          "name": "stdout"
        }
      ]
    },
    {
      "cell_type": "code",
      "metadata": {
        "colab": {
          "base_uri": "https://localhost:8080/"
        },
        "id": "noK5R6CNGrdg",
        "outputId": "be8356ed-811b-4425-85ad-2e33b029f94b"
      },
      "source": [
        "df.groupBy('Cabin').count().orderBy(\"count\", ascending = False).show(10)"
      ],
      "execution_count": null,
      "outputs": [
        {
          "output_type": "stream",
          "text": [
            "+-----------+-----+\n",
            "|      Cabin|count|\n",
            "+-----------+-----+\n",
            "|       null|  687|\n",
            "|         G6|    4|\n",
            "|C23 C25 C27|    4|\n",
            "|    B96 B98|    4|\n",
            "|       E101|    3|\n",
            "|    C22 C26|    3|\n",
            "|          D|    3|\n",
            "|         F2|    3|\n",
            "|        F33|    3|\n",
            "|        E44|    2|\n",
            "+-----------+-----+\n",
            "only showing top 10 rows\n",
            "\n"
          ],
          "name": "stdout"
        }
      ]
    },
    {
      "cell_type": "code",
      "metadata": {
        "colab": {
          "base_uri": "https://localhost:8080/"
        },
        "id": "3sZqsVt6JAAs",
        "outputId": "035c604e-6773-4c4f-d801-6ce6f70c5b2c"
      },
      "source": [
        "df.groupBy('Cabin').count().groupBy('count').count().orderBy(\"count\", ascending = False).show(10)"
      ],
      "execution_count": null,
      "outputs": [
        {
          "output_type": "stream",
          "text": [
            "+-----+-----+\n",
            "|count|count|\n",
            "+-----+-----+\n",
            "|  687|    1|\n",
            "|    4|    3|\n",
            "|    3|    5|\n",
            "|    2|   38|\n",
            "|    1|  101|\n",
            "+-----+-----+\n",
            "\n"
          ],
          "name": "stdout"
        }
      ]
    },
    {
      "cell_type": "code",
      "metadata": {
        "colab": {
          "base_uri": "https://localhost:8080/"
        },
        "id": "qPQqJDL9Grkl",
        "outputId": "1aa22da1-d529-4729-b45c-39b829dc1e30"
      },
      "source": [
        "df.groupBy('Embarked').count().orderBy(\"count\", ascending = False).show(10)"
      ],
      "execution_count": null,
      "outputs": [
        {
          "output_type": "stream",
          "text": [
            "+--------+-----+\n",
            "|Embarked|count|\n",
            "+--------+-----+\n",
            "|       S|  644|\n",
            "|       C|  168|\n",
            "|       Q|   77|\n",
            "|    null|    2|\n",
            "+--------+-----+\n",
            "\n"
          ],
          "name": "stdout"
        }
      ]
    },
    {
      "cell_type": "code",
      "metadata": {
        "colab": {
          "base_uri": "https://localhost:8080/"
        },
        "id": "KIrTDp52HO67",
        "outputId": "c79add02-4aec-4ac4-c4b3-b22f348c49bf"
      },
      "source": [
        "df.groupBy('pclass').count().orderBy(\"count\", ascending = False).show(10)"
      ],
      "execution_count": null,
      "outputs": [
        {
          "output_type": "stream",
          "text": [
            "+------+-----+\n",
            "|pclass|count|\n",
            "+------+-----+\n",
            "|     3|  491|\n",
            "|     1|  216|\n",
            "|     2|  184|\n",
            "+------+-----+\n",
            "\n"
          ],
          "name": "stdout"
        }
      ]
    },
    {
      "cell_type": "code",
      "metadata": {
        "id": "Tv1pJ0_hPrkt"
      },
      "source": [
        "df = df.drop(\"PassengerId\",\"Name\",\"Ticket\",\"Cabin\")"
      ],
      "execution_count": 348,
      "outputs": []
    },
    {
      "cell_type": "markdown",
      "metadata": {
        "id": "AHRZtsF2MxXm"
      },
      "source": [
        "# Question 3"
      ]
    },
    {
      "cell_type": "code",
      "metadata": {
        "id": "Q_mpPURNKiEB"
      },
      "source": [
        "df = df.withColumn(\"SibSp\",df[\"SibSp\"].cast(\"double\")).withColumn(\"Pclass\",df[\"Pclass\"].cast(\"double\"))\\\r\n",
        ".withColumn(\"Parch\",df[\"Parch\"].cast(\"double\")).withColumn(\"Survived\",df[\"Survived\"].cast(\"double\"))"
      ],
      "execution_count": 349,
      "outputs": []
    },
    {
      "cell_type": "code",
      "metadata": {
        "colab": {
          "base_uri": "https://localhost:8080/"
        },
        "id": "tjMTp_ajM4s1",
        "outputId": "ec4ef466-8648-4fe3-927c-67456bff2453"
      },
      "source": [
        "df.printSchema()"
      ],
      "execution_count": 350,
      "outputs": [
        {
          "output_type": "stream",
          "text": [
            "root\n",
            " |-- Survived: double (nullable = true)\n",
            " |-- Pclass: double (nullable = true)\n",
            " |-- Sex: string (nullable = true)\n",
            " |-- Age: double (nullable = true)\n",
            " |-- SibSp: double (nullable = true)\n",
            " |-- Parch: double (nullable = true)\n",
            " |-- Fare: double (nullable = true)\n",
            " |-- Embarked: string (nullable = true)\n",
            "\n"
          ],
          "name": "stdout"
        }
      ]
    },
    {
      "cell_type": "code",
      "metadata": {
        "colab": {
          "base_uri": "https://localhost:8080/"
        },
        "id": "dbJswiDgM4vi",
        "outputId": "6fe8f2b9-9af4-48f3-84e9-c33bc96278f8"
      },
      "source": [
        "df = df.withColumn(\"Age_M\",df.Age.isNull())\r\n",
        "df.show(10)"
      ],
      "execution_count": 351,
      "outputs": [
        {
          "output_type": "stream",
          "text": [
            "+--------+------+------+----+-----+-----+-------+--------+-----+\n",
            "|Survived|Pclass|   Sex| Age|SibSp|Parch|   Fare|Embarked|Age_M|\n",
            "+--------+------+------+----+-----+-----+-------+--------+-----+\n",
            "|     0.0|   3.0|  male|22.0|  1.0|  0.0|   7.25|       S|false|\n",
            "|     1.0|   1.0|female|38.0|  1.0|  0.0|71.2833|       C|false|\n",
            "|     1.0|   3.0|female|26.0|  0.0|  0.0|  7.925|       S|false|\n",
            "|     1.0|   1.0|female|35.0|  1.0|  0.0|   53.1|       S|false|\n",
            "|     0.0|   3.0|  male|35.0|  0.0|  0.0|   8.05|       S|false|\n",
            "|     0.0|   3.0|  male|null|  0.0|  0.0| 8.4583|       Q| true|\n",
            "|     0.0|   1.0|  male|54.0|  0.0|  0.0|51.8625|       S|false|\n",
            "|     0.0|   3.0|  male| 2.0|  3.0|  1.0| 21.075|       S|false|\n",
            "|     1.0|   3.0|female|27.0|  0.0|  2.0|11.1333|       S|false|\n",
            "|     1.0|   2.0|female|14.0|  1.0|  0.0|30.0708|       C|false|\n",
            "+--------+------+------+----+-----+-----+-------+--------+-----+\n",
            "only showing top 10 rows\n",
            "\n"
          ],
          "name": "stdout"
        }
      ]
    },
    {
      "cell_type": "code",
      "metadata": {
        "id": "BM4yr0vguM8h"
      },
      "source": [
        "df = df.withColumn(\"Age_M\",df[\"Age_M\"].cast(\"double\"))"
      ],
      "execution_count": 352,
      "outputs": []
    },
    {
      "cell_type": "code",
      "metadata": {
        "colab": {
          "base_uri": "https://localhost:8080/"
        },
        "id": "2sP-PZAWerAO",
        "outputId": "13dc2cf4-7fe1-4927-8245-785e71711590"
      },
      "source": [
        "mean_age=df.select(mean(df.Age)).collect()[0][0]\r\n",
        "print(mean_age)"
      ],
      "execution_count": 353,
      "outputs": [
        {
          "output_type": "stream",
          "text": [
            "29.69911764705882\n"
          ],
          "name": "stdout"
        }
      ]
    },
    {
      "cell_type": "code",
      "metadata": {
        "id": "zZ3Ah-AmczQQ"
      },
      "source": [
        "df = df.na.fill(mean_age,subset=['Age'])"
      ],
      "execution_count": 354,
      "outputs": []
    },
    {
      "cell_type": "code",
      "metadata": {
        "colab": {
          "base_uri": "https://localhost:8080/"
        },
        "id": "fycGmnNxdxGW",
        "outputId": "da2bc184-1362-4214-a51e-b0af32208155"
      },
      "source": [
        "df.show(10)"
      ],
      "execution_count": 355,
      "outputs": [
        {
          "output_type": "stream",
          "text": [
            "+--------+------+------+-----------------+-----+-----+-------+--------+-----+\n",
            "|Survived|Pclass|   Sex|              Age|SibSp|Parch|   Fare|Embarked|Age_M|\n",
            "+--------+------+------+-----------------+-----+-----+-------+--------+-----+\n",
            "|     0.0|   3.0|  male|             22.0|  1.0|  0.0|   7.25|       S|  0.0|\n",
            "|     1.0|   1.0|female|             38.0|  1.0|  0.0|71.2833|       C|  0.0|\n",
            "|     1.0|   3.0|female|             26.0|  0.0|  0.0|  7.925|       S|  0.0|\n",
            "|     1.0|   1.0|female|             35.0|  1.0|  0.0|   53.1|       S|  0.0|\n",
            "|     0.0|   3.0|  male|             35.0|  0.0|  0.0|   8.05|       S|  0.0|\n",
            "|     0.0|   3.0|  male|29.69911764705882|  0.0|  0.0| 8.4583|       Q|  1.0|\n",
            "|     0.0|   1.0|  male|             54.0|  0.0|  0.0|51.8625|       S|  0.0|\n",
            "|     0.0|   3.0|  male|              2.0|  3.0|  1.0| 21.075|       S|  0.0|\n",
            "|     1.0|   3.0|female|             27.0|  0.0|  2.0|11.1333|       S|  0.0|\n",
            "|     1.0|   2.0|female|             14.0|  1.0|  0.0|30.0708|       C|  0.0|\n",
            "+--------+------+------+-----------------+-----+-----+-------+--------+-----+\n",
            "only showing top 10 rows\n",
            "\n"
          ],
          "name": "stdout"
        }
      ]
    },
    {
      "cell_type": "code",
      "metadata": {
        "id": "SrgDoInXgB19"
      },
      "source": [
        "df = df.na.drop()"
      ],
      "execution_count": 356,
      "outputs": []
    },
    {
      "cell_type": "code",
      "metadata": {
        "colab": {
          "base_uri": "https://localhost:8080/"
        },
        "id": "cdNc7ZVagoYF",
        "outputId": "75aba88e-bee1-43a8-ba98-f4f55fa9e5cd"
      },
      "source": [
        "df.show(10)"
      ],
      "execution_count": 357,
      "outputs": [
        {
          "output_type": "stream",
          "text": [
            "+--------+------+------+-----------------+-----+-----+-------+--------+-----+\n",
            "|Survived|Pclass|   Sex|              Age|SibSp|Parch|   Fare|Embarked|Age_M|\n",
            "+--------+------+------+-----------------+-----+-----+-------+--------+-----+\n",
            "|     0.0|   3.0|  male|             22.0|  1.0|  0.0|   7.25|       S|  0.0|\n",
            "|     1.0|   1.0|female|             38.0|  1.0|  0.0|71.2833|       C|  0.0|\n",
            "|     1.0|   3.0|female|             26.0|  0.0|  0.0|  7.925|       S|  0.0|\n",
            "|     1.0|   1.0|female|             35.0|  1.0|  0.0|   53.1|       S|  0.0|\n",
            "|     0.0|   3.0|  male|             35.0|  0.0|  0.0|   8.05|       S|  0.0|\n",
            "|     0.0|   3.0|  male|29.69911764705882|  0.0|  0.0| 8.4583|       Q|  1.0|\n",
            "|     0.0|   1.0|  male|             54.0|  0.0|  0.0|51.8625|       S|  0.0|\n",
            "|     0.0|   3.0|  male|              2.0|  3.0|  1.0| 21.075|       S|  0.0|\n",
            "|     1.0|   3.0|female|             27.0|  0.0|  2.0|11.1333|       S|  0.0|\n",
            "|     1.0|   2.0|female|             14.0|  1.0|  0.0|30.0708|       C|  0.0|\n",
            "+--------+------+------+-----------------+-----+-----+-------+--------+-----+\n",
            "only showing top 10 rows\n",
            "\n"
          ],
          "name": "stdout"
        }
      ]
    },
    {
      "cell_type": "code",
      "metadata": {
        "colab": {
          "base_uri": "https://localhost:8080/"
        },
        "id": "ocd2e9qjf5rG",
        "outputId": "4abdc174-98b2-4a60-8f3e-0cd582f58f8c"
      },
      "source": [
        "df.describe().show()"
      ],
      "execution_count": 358,
      "outputs": [
        {
          "output_type": "stream",
          "text": [
            "+-------+-------------------+------------------+------+------------------+------------------+-------------------+-----------------+--------+-------------------+\n",
            "|summary|           Survived|            Pclass|   Sex|               Age|             SibSp|              Parch|             Fare|Embarked|              Age_M|\n",
            "+-------+-------------------+------------------+------+------------------+------------------+-------------------+-----------------+--------+-------------------+\n",
            "|  count|                889|               889|   889|               889|               889|                889|              889|     889|                889|\n",
            "|   mean|0.38245219347581555|2.3115860517435323|  null|29.653446370674192|0.5241844769403825|0.38245219347581555|32.09668087739029|    null|0.19910011248593926|\n",
            "| stddev|0.48625968831477334|0.8346997785705753|  null|12.968366309252314| 1.103704875596923| 0.8067607445174785|49.69750431670795|    null| 0.3995482811002537|\n",
            "|    min|                0.0|               1.0|female|              0.42|               0.0|                0.0|              0.0|       C|                0.0|\n",
            "|    max|                1.0|               3.0|  male|              80.0|               8.0|                6.0|         512.3292|       S|                1.0|\n",
            "+-------+-------------------+------------------+------+------------------+------------------+-------------------+-----------------+--------+-------------------+\n",
            "\n"
          ],
          "name": "stdout"
        }
      ]
    },
    {
      "cell_type": "markdown",
      "metadata": {
        "id": "pYzOdaFtiiuG"
      },
      "source": [
        "# Question 4"
      ]
    },
    {
      "cell_type": "code",
      "metadata": {
        "id": "JGsdL7OzifRE"
      },
      "source": [
        "sex_indexer = StringIndexer(inputCol=\"Sex\",outputCol=\"Sex_ix\")\r\n",
        "embarked_indexer = StringIndexer(inputCol=\"Embarked\",outputCol=\"Embarked_ix\")"
      ],
      "execution_count": 359,
      "outputs": []
    },
    {
      "cell_type": "code",
      "metadata": {
        "id": "_W3UxBHti2Dd"
      },
      "source": [
        "sex_encoder = OneHotEncoder(inputCol=\"Sex_ix\",outputCol=\"Sex_oh\")\r\n",
        "embarked_encoder = OneHotEncoder(inputCol=\"Embarked_ix\",outputCol=\"Embarked_oh\")"
      ],
      "execution_count": 360,
      "outputs": []
    },
    {
      "cell_type": "markdown",
      "metadata": {
        "id": "GPz0NEeWk9A5"
      },
      "source": [
        "# Question 5"
      ]
    },
    {
      "cell_type": "code",
      "metadata": {
        "id": "Np939u1WjGHB"
      },
      "source": [
        "x_cols = [\"Pclass\", \"Sex_oh\", \"Age\", \"Age_M\", \"SibSp\", \"Parch\", \"Fare\", \"Embarked_oh\"]\r\n",
        "\r\n",
        "va = VectorAssembler(inputCols = x_cols, outputCol = 'features')"
      ],
      "execution_count": 362,
      "outputs": []
    },
    {
      "cell_type": "markdown",
      "metadata": {
        "id": "iTyw3Zl0mAOc"
      },
      "source": [
        "# Question 6"
      ]
    },
    {
      "cell_type": "code",
      "metadata": {
        "id": "empzUSU4ndPQ"
      },
      "source": [
        "lr = LogisticRegression(maxIter=10,featuresCol = \"scaled\", labelCol = \"Survived\")"
      ],
      "execution_count": 381,
      "outputs": []
    },
    {
      "cell_type": "markdown",
      "metadata": {
        "id": "6_TQkN_CoIZ9"
      },
      "source": [
        "# Question 7"
      ]
    },
    {
      "cell_type": "code",
      "metadata": {
        "id": "JvLj4PSmRx4y"
      },
      "source": [
        "ss = StandardScaler(withMean=True, withStd = True, inputCol = \"features\", outputCol = \"scaled\")"
      ],
      "execution_count": 364,
      "outputs": []
    },
    {
      "cell_type": "code",
      "metadata": {
        "id": "3fGXC4jdoHoc"
      },
      "source": [
        "steps = [sex_indexer, embarked_indexer, sex_encoder, embarked_encoder, va, ss, lr]"
      ],
      "execution_count": 382,
      "outputs": []
    },
    {
      "cell_type": "code",
      "metadata": {
        "id": "dASs2Fg7oVWd"
      },
      "source": [
        "pl = Pipeline(stages=steps)"
      ],
      "execution_count": 383,
      "outputs": []
    },
    {
      "cell_type": "markdown",
      "metadata": {
        "id": "-R04_bksocQH"
      },
      "source": [
        "# Question 8"
      ]
    },
    {
      "cell_type": "code",
      "metadata": {
        "id": "6L2AakmyueX5"
      },
      "source": [
        "from pyspark.ml.tuning import TrainValidationSplit\r\n",
        "\r\n",
        "train, test = df.randomSplit([0.7, 0.3], seed=666)"
      ],
      "execution_count": 368,
      "outputs": []
    },
    {
      "cell_type": "code",
      "metadata": {
        "colab": {
          "base_uri": "https://localhost:8080/"
        },
        "id": "Tt_-ZPiLwgOd",
        "outputId": "d425e18d-8886-4d1f-d7f7-c523a3dd08ba"
      },
      "source": [
        "train.count()"
      ],
      "execution_count": 369,
      "outputs": [
        {
          "output_type": "execute_result",
          "data": {
            "text/plain": [
              "631"
            ]
          },
          "metadata": {
            "tags": []
          },
          "execution_count": 369
        }
      ]
    },
    {
      "cell_type": "code",
      "metadata": {
        "colab": {
          "base_uri": "https://localhost:8080/"
        },
        "id": "b91iTXcNwj_u",
        "outputId": "a7e5b22d-81bf-487e-c9ec-800f2990e85c"
      },
      "source": [
        "test.count()"
      ],
      "execution_count": 370,
      "outputs": [
        {
          "output_type": "execute_result",
          "data": {
            "text/plain": [
              "258"
            ]
          },
          "metadata": {
            "tags": []
          },
          "execution_count": 370
        }
      ]
    },
    {
      "cell_type": "code",
      "metadata": {
        "colab": {
          "base_uri": "https://localhost:8080/"
        },
        "id": "pGqdIYqhpMv0",
        "outputId": "cf3ab718-0510-4633-b8e9-006cf85591ca"
      },
      "source": [
        "train.printSchema()"
      ],
      "execution_count": 371,
      "outputs": [
        {
          "output_type": "stream",
          "text": [
            "root\n",
            " |-- Survived: double (nullable = true)\n",
            " |-- Pclass: double (nullable = true)\n",
            " |-- Sex: string (nullable = true)\n",
            " |-- Age: double (nullable = false)\n",
            " |-- SibSp: double (nullable = true)\n",
            " |-- Parch: double (nullable = true)\n",
            " |-- Fare: double (nullable = true)\n",
            " |-- Embarked: string (nullable = true)\n",
            " |-- Age_M: double (nullable = false)\n",
            "\n"
          ],
          "name": "stdout"
        }
      ]
    },
    {
      "cell_type": "markdown",
      "metadata": {
        "id": "014lgVD1pNj3"
      },
      "source": [
        "# Question 9"
      ]
    },
    {
      "cell_type": "code",
      "metadata": {
        "id": "-xJd2U7robzA"
      },
      "source": [
        "plmodel = pl.fit(train)"
      ],
      "execution_count": 384,
      "outputs": []
    },
    {
      "cell_type": "code",
      "metadata": {
        "id": "JHcZkwxXynli"
      },
      "source": [
        "predictions = plmodel.transform(test)"
      ],
      "execution_count": 385,
      "outputs": []
    },
    {
      "cell_type": "code",
      "metadata": {
        "id": "RqzwX2hF0Upc"
      },
      "source": [
        "x_cols = [\"Pclass\", \"Sex_oh\", \"Age\", \"Age_M\", \"SibSp\", \"Parch\", \"Fare\", \"Embarked_oh\"]\r\n",
        "\r\n",
        "x_cols.append(\"Embarked_oh2\")\r\n",
        "x_cols.append(\"intercept\")\r\n",
        "\r\n",
        "coefficients = list(plmodel.stages[-1].coefficients)\r\n",
        "coefficients.append(plmodel.stages[-1].intercept)"
      ],
      "execution_count": 388,
      "outputs": []
    },
    {
      "cell_type": "code",
      "metadata": {
        "colab": {
          "base_uri": "https://localhost:8080/",
          "height": 77
        },
        "id": "YNNhaga69iN3",
        "outputId": "7766ffc4-a8a5-400c-eabe-4732680728b9"
      },
      "source": [
        "import pandas as pd\r\n",
        "\r\n",
        "pd.DataFrame([coefficients], columns = x_cols)"
      ],
      "execution_count": 389,
      "outputs": [
        {
          "output_type": "execute_result",
          "data": {
            "text/html": [
              "<div>\n",
              "<style scoped>\n",
              "    .dataframe tbody tr th:only-of-type {\n",
              "        vertical-align: middle;\n",
              "    }\n",
              "\n",
              "    .dataframe tbody tr th {\n",
              "        vertical-align: top;\n",
              "    }\n",
              "\n",
              "    .dataframe thead th {\n",
              "        text-align: right;\n",
              "    }\n",
              "</style>\n",
              "<table border=\"1\" class=\"dataframe\">\n",
              "  <thead>\n",
              "    <tr style=\"text-align: right;\">\n",
              "      <th></th>\n",
              "      <th>Pclass</th>\n",
              "      <th>Sex_oh</th>\n",
              "      <th>Age</th>\n",
              "      <th>Age_M</th>\n",
              "      <th>SibSp</th>\n",
              "      <th>Parch</th>\n",
              "      <th>Fare</th>\n",
              "      <th>Embarked_oh</th>\n",
              "      <th>Embarked_oh2</th>\n",
              "      <th>intercept</th>\n",
              "    </tr>\n",
              "  </thead>\n",
              "  <tbody>\n",
              "    <tr>\n",
              "      <th>0</th>\n",
              "      <td>-0.896848</td>\n",
              "      <td>-1.328635</td>\n",
              "      <td>-0.413685</td>\n",
              "      <td>-0.080899</td>\n",
              "      <td>-0.438067</td>\n",
              "      <td>-0.116797</td>\n",
              "      <td>0.026506</td>\n",
              "      <td>-0.233985</td>\n",
              "      <td>-0.101337</td>\n",
              "      <td>-0.623776</td>\n",
              "    </tr>\n",
              "  </tbody>\n",
              "</table>\n",
              "</div>"
            ],
            "text/plain": [
              "     Pclass    Sex_oh       Age  ...  Embarked_oh  Embarked_oh2  intercept\n",
              "0 -0.896848 -1.328635 -0.413685  ...    -0.233985     -0.101337  -0.623776\n",
              "\n",
              "[1 rows x 10 columns]"
            ]
          },
          "metadata": {
            "tags": []
          },
          "execution_count": 389
        }
      ]
    },
    {
      "cell_type": "markdown",
      "metadata": {
        "id": "fQmCE0Vf75Gc"
      },
      "source": [
        "# Question 10"
      ]
    },
    {
      "cell_type": "code",
      "metadata": {
        "colab": {
          "base_uri": "https://localhost:8080/"
        },
        "id": "1pQm4_8L3pYc",
        "outputId": "b3b4685b-6101-4e07-ca23-cb3c6294f542"
      },
      "source": [
        "predictions.show(5,truncate=False)"
      ],
      "execution_count": 390,
      "outputs": [
        {
          "output_type": "stream",
          "text": [
            "+--------+------+----+-----------------+-----+-----+------+--------+-----+------+-----------+-------------+-------------+------------------------------------------------------+-----------------------------------------------------------------------------------------------------------------------------------------------------------------------------------+------------------------------------------+----------------------------------------+----------+\n",
            "|Survived|Pclass|Sex |Age              |SibSp|Parch|Fare  |Embarked|Age_M|Sex_ix|Embarked_ix|Sex_oh       |Embarked_oh  |features                                              |scaled                                                                                                                                                                             |rawPrediction                             |probability                             |prediction|\n",
            "+--------+------+----+-----------------+-----+-----+------+--------+-----+------+-----------+-------------+-------------+------------------------------------------------------+-----------------------------------------------------------------------------------------------------------------------------------------------------------------------------------+------------------------------------------+----------------------------------------+----------+\n",
            "|0.0     |1.0   |male|19.0             |3.0  |2.0  |263.0 |S       |0.0  |0.0   |0.0        |(1,[0],[1.0])|(2,[0],[1.0])|[1.0,1.0,19.0,0.0,3.0,2.0,263.0,1.0,0.0]              |[-1.5119355517655204,0.7593318023459066,-0.8648605630267641,-0.5139161761942147,2.1368415473747153,1.9698331045964685,4.798751861331281,0.6361625783893372,-0.5015822824361749]    |[1.014297309232067,-1.014297309232067]    |[0.7338602969914926,0.26613970300850737]|0.0       |\n",
            "|0.0     |1.0   |male|29.69911764705882|0.0  |0.0  |0.0   |S       |1.0  |0.0   |0.0        |(1,[0],[1.0])|(2,[0],[1.0])|[1.0,1.0,29.69911764705882,1.0,0.0,0.0,0.0,1.0,0.0]   |[-1.5119355517655204,0.7593318023459066,-0.05139738282916897,1.942758878188736,-0.4594620785433434,-0.4697443026662824,-0.6723090858318324,0.6361625783893372,-0.5015822824361749] |[0.2722829804527223,-0.2722829804527223]  |[0.5676532872600958,0.43234671273990416]|0.0       |\n",
            "|0.0     |1.0   |male|29.69911764705882|0.0  |0.0  |25.925|S       |1.0  |0.0   |0.0        |(1,[0],[1.0])|(2,[0],[1.0])|[1.0,1.0,29.69911764705882,1.0,0.0,0.0,25.925,1.0,0.0]|[-1.5119355517655204,0.7593318023459066,-0.05139738282916897,1.942758878188736,-0.4594620785433434,-0.4697443026662824,-0.13300393353067752,0.6361625783893372,-0.5015822824361749]|[0.2579883037003868,-0.2579883037003868]  |[0.5641417081507305,0.4358582918492695] |0.0       |\n",
            "|0.0     |1.0   |male|29.69911764705882|0.0  |0.0  |26.55 |S       |1.0  |0.0   |0.0        |(1,[0],[1.0])|(2,[0],[1.0])|[1.0,1.0,29.69911764705882,1.0,0.0,0.0,26.55,1.0,0.0] |[-1.5119355517655204,0.7593318023459066,-0.05139738282916897,1.942758878188736,-0.4594620785433434,-0.4697443026662824,-0.12000236283874996,0.6361625783893372,-0.5015822824361749]|[0.2576436875781029,-0.2576436875781029]  |[0.5640569700533508,0.43594302994664924]|0.0       |\n",
            "|0.0     |1.0   |male|33.0             |0.0  |0.0  |5.0   |S       |0.0  |0.0   |0.0        |(1,[0],[1.0])|(2,[0],[1.0])|[1.0,1.0,33.0,0.0,0.0,0.0,5.0,1.0,0.0]                |[-1.5119355517655204,0.7593318023459066,0.1995715610462914,-0.5139161761942147,-0.4594620785433434,-0.4697443026662824,-0.568296520296412,0.6361625783893372,-0.5015822824361749]  |[0.17460539210439746,-0.17460539210439746]|[0.5435407850441925,0.45645921495580755]|0.0       |\n",
            "+--------+------+----+-----------------+-----+-----+------+--------+-----+------+-----------+-------------+-------------+------------------------------------------------------+-----------------------------------------------------------------------------------------------------------------------------------------------------------------------------------+------------------------------------------+----------------------------------------+----------+\n",
            "only showing top 5 rows\n",
            "\n"
          ],
          "name": "stdout"
        }
      ]
    },
    {
      "cell_type": "code",
      "metadata": {
        "colab": {
          "base_uri": "https://localhost:8080/"
        },
        "id": "_pqNAo984why",
        "outputId": "5c411039-e721-4489-82cc-7302a7e228e2"
      },
      "source": [
        "print(\"AUC outsample : %s\" % plmodel.stages[-1].summary.areaUnderROC)"
      ],
      "execution_count": 391,
      "outputs": [
        {
          "output_type": "stream",
          "text": [
            "AUC outsample : 0.855969551282051\n"
          ],
          "name": "stdout"
        }
      ]
    },
    {
      "cell_type": "code",
      "metadata": {
        "colab": {
          "base_uri": "https://localhost:8080/"
        },
        "id": "scMpGmLDGT76",
        "outputId": "147e04ed-6e2c-4713-f829-899b5ca50a5d"
      },
      "source": [
        "from sklearn.metrics import roc_auc_score\r\n",
        "\r\n",
        "cols = ['probability', 'Survived']\r\n",
        "evalue = predictions.select(cols)\r\n",
        "\r\n",
        "evalue = evalue.select(\"*\").toPandas()\r\n",
        "evalue['probability'] = evalue['probability'].apply(lambda x: pd.Series(x.toArray()))[1]\r\n",
        "\r\n",
        "print(\"AUC outsample : %s\" % roc_auc_score(evalue[\"Survived\"], evalue[\"probability\"]))"
      ],
      "execution_count": 392,
      "outputs": [
        {
          "output_type": "stream",
          "text": [
            "AUC outsample : 0.8546106223525578\n"
          ],
          "name": "stdout"
        }
      ]
    }
  ]
}